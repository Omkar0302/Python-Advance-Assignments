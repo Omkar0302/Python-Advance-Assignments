{
 "cells": [
  {
   "cell_type": "markdown",
   "id": "b5c18786",
   "metadata": {},
   "source": [
    "Q1. What is the purpose of Python's OOP?\n",
    "\n",
    "A - OOP(Object oriented Programming) is used to reuse the logic used in programming by calling the (methods)functions from class object through instance object instead of writing that logic code again."
   ]
  },
  {
   "cell_type": "markdown",
   "id": "38fc7fdb",
   "metadata": {},
   "source": [
    "Q2. Where does an inheritance search look for an attribute?\n",
    "\n",
    "A- Inheritance search look for attribute first in own class then in parent class."
   ]
  },
  {
   "cell_type": "markdown",
   "id": "5742ee08",
   "metadata": {},
   "source": [
    "Q3. How do you distinguish between a class object and an instance object?\n",
    "\n",
    "A- It can be understood by simple analogy like : Cell phone can be considered as class object while brand of cell phone can be considered as instance object"
   ]
  },
  {
   "cell_type": "markdown",
   "id": "e1bc65e4",
   "metadata": {},
   "source": [
    "Q4. What makes the first argument in a class’s method function special?\n",
    "\n",
    "A- For convention we can use \"self\" as first argument and it is used to point at following attributes eg:- self.att."
   ]
  },
  {
   "cell_type": "markdown",
   "id": "e48fab72",
   "metadata": {},
   "source": [
    "Q5. What is the purpose of the __init__ method?\n",
    "\n",
    "A. it allows to store attribute  in class through an instance and use in further methods(functions) by calling self.att."
   ]
  },
  {
   "cell_type": "markdown",
   "id": "c55a1b44",
   "metadata": {},
   "source": [
    "Q6. What is the process for creating a class instance?\n",
    "\n",
    "A.First we import class if class is created in different pacakage or file then we can create class instance like instance=class(attributes) provided we have used _init_ in class and carry out functions(methods) of class like instance.method(attribute1,att2)."
   ]
  },
  {
   "cell_type": "markdown",
   "id": "49983fb2",
   "metadata": {},
   "source": [
    "Q7. What is the process for creating a class?\n",
    "\n",
    "A. We can create like \n",
    "\n",
    " class Omkar:\n",
    " \n",
    "     def _init_ (self,attribute1,att2,attt3):\n",
    "     \n",
    " \n",
    "     def method1():\n",
    " \n",
    "     def method2():"
   ]
  },
  {
   "cell_type": "markdown",
   "id": "b276f9dc",
   "metadata": {},
   "source": [
    "Q8. How would you define the superclasses of a class?\n",
    "\n",
    "A. I will define supperclasses of a class as \"ancestors\" from whom class inherited characteristics like some methods or attributes."
   ]
  },
  {
   "cell_type": "code",
   "execution_count": null,
   "id": "87cc1d51",
   "metadata": {},
   "outputs": [],
   "source": []
  }
 ],
 "metadata": {
  "kernelspec": {
   "display_name": "Python 3 (ipykernel)",
   "language": "python",
   "name": "python3"
  },
  "language_info": {
   "codemirror_mode": {
    "name": "ipython",
    "version": 3
   },
   "file_extension": ".py",
   "mimetype": "text/x-python",
   "name": "python",
   "nbconvert_exporter": "python",
   "pygments_lexer": "ipython3",
   "version": "3.9.12"
  }
 },
 "nbformat": 4,
 "nbformat_minor": 5
}
